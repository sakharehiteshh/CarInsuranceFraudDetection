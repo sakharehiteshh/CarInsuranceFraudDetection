{
 "cells": [
  {
   "cell_type": "code",
   "execution_count": 8,
   "id": "04744958",
   "metadata": {},
   "outputs": [],
   "source": [
    "import pandas as pd\n",
    "import numpy as np\n",
    "import re\n",
    "import matplotlib.pyplot as plt\n",
    "import seaborn as sns\n",
    "from sklearn.preprocessing import LabelEncoder, StandardScaler\n",
    "from sklearn.model_selection import train_test_split, cross_val_score\n",
    "from sklearn.impute import SimpleImputer\n",
    "from sklearn.metrics import accuracy_score, precision_score, recall_score, f1_score, confusion_matrix\n",
    "from sklearn.svm import SVC\n",
    "from sklearn.tree import DecisionTreeClassifier\n",
    "from sklearn.ensemble import RandomForestClassifier\n",
    "\n"
   ]
  },
  {
   "cell_type": "code",
   "execution_count": 9,
   "id": "f289b0f3",
   "metadata": {},
   "outputs": [],
   "source": [
    "def load_data():\n",
    "    # Load the dataset\n",
    "    df = pd.read_csv('fraud_oracle.csv')\n",
    "\n",
    "    # Remove duplicates and missing values\n",
    "    df = df.drop_duplicates()\n",
    "    df = df.dropna()\n",
    "    return df"
   ]
  },
  {
   "cell_type": "code",
   "execution_count": 11,
   "id": "424e5b98",
   "metadata": {},
   "outputs": [
    {
     "ename": "NameError",
     "evalue": "name 'df' is not defined",
     "output_type": "error",
     "traceback": [
      "\u001b[1;31m---------------------------------------------------------------------------\u001b[0m",
      "\u001b[1;31mNameError\u001b[0m                                 Traceback (most recent call last)",
      "Input \u001b[1;32mIn [11]\u001b[0m, in \u001b[0;36m<cell line: 24>\u001b[1;34m()\u001b[0m\n\u001b[0;32m     21\u001b[0m         \u001b[38;5;28;01mreturn\u001b[39;00m \u001b[38;5;28;01mNone\u001b[39;00m\n\u001b[0;32m     23\u001b[0m cols_to_convert \u001b[38;5;241m=\u001b[39m [\u001b[38;5;124m'\u001b[39m\u001b[38;5;124mDays_Policy_Accident\u001b[39m\u001b[38;5;124m'\u001b[39m, \u001b[38;5;124m'\u001b[39m\u001b[38;5;124mDays_Policy_Claim\u001b[39m\u001b[38;5;124m'\u001b[39m, \u001b[38;5;124m'\u001b[39m\u001b[38;5;124mPastNumberOfClaims\u001b[39m\u001b[38;5;124m'\u001b[39m, \u001b[38;5;124m'\u001b[39m\u001b[38;5;124mAgeOfVehicle\u001b[39m\u001b[38;5;124m'\u001b[39m, \u001b[38;5;124m'\u001b[39m\u001b[38;5;124mAgeOfPolicyHolder\u001b[39m\u001b[38;5;124m'\u001b[39m, \u001b[38;5;124m'\u001b[39m\u001b[38;5;124mNumberOfSuppliments\u001b[39m\u001b[38;5;124m'\u001b[39m, \u001b[38;5;124m'\u001b[39m\u001b[38;5;124mNumberOfCars\u001b[39m\u001b[38;5;124m'\u001b[39m, \u001b[38;5;124m'\u001b[39m\u001b[38;5;124mVehiclePrice\u001b[39m\u001b[38;5;124m'\u001b[39m]\n\u001b[1;32m---> 24\u001b[0m df[cols_to_convert] \u001b[38;5;241m=\u001b[39m \u001b[43mdf\u001b[49m[cols_to_convert]\u001b[38;5;241m.\u001b[39mapply(\u001b[38;5;28;01mlambda\u001b[39;00m col: col\u001b[38;5;241m.\u001b[39mapply(convert_to_float))\n\u001b[0;32m     25\u001b[0m df[\u001b[38;5;124m'\u001b[39m\u001b[38;5;124mAge\u001b[39m\u001b[38;5;124m'\u001b[39m] \u001b[38;5;241m=\u001b[39m df[\u001b[38;5;124m'\u001b[39m\u001b[38;5;124mAge\u001b[39m\u001b[38;5;124m'\u001b[39m]\u001b[38;5;241m.\u001b[39mastype(\u001b[38;5;28mfloat\u001b[39m)\n\u001b[0;32m     27\u001b[0m \u001b[38;5;66;03m# Standardize numerical features\u001b[39;00m\n",
      "\u001b[1;31mNameError\u001b[0m: name 'df' is not defined"
     ]
    }
   ],
   "source": [
    "def clean_data(df):\n",
    "    # Encode categorical variables\n",
    "    le = LabelEncoder()\n",
    "    cols_to_encode = ['Make', 'AccidentArea', 'Sex', 'MaritalStatus', 'Fault', 'PolicyType', 'VehicleCategory', 'PoliceReportFiled', 'WitnessPresent', 'AgentType', 'AddressChange_Claim', 'BasePolicy']\n",
    "    df[cols_to_encode] = df[cols_to_encode].apply(le.fit_transform)\n",
    "\n",
    "\n",
    "# Convert string variables to floats\n",
    "def convert_to_float(val):\n",
    "    if isinstance(val, int):\n",
    "        return float(val)\n",
    "    elif isinstance(val, float):\n",
    "        return val\n",
    "    elif 'more than' in val:\n",
    "        return float(re.findall(r'\\d+', val)[0])\n",
    "    elif 'to' in val:\n",
    "        return sum(map(float, re.findall(r'\\d+', val))) / 2\n",
    "    elif 'years' in val:\n",
    "        return float(re.findall(r'\\d+', val)[0])\n",
    "    else:\n",
    "        return None\n",
    "\n",
    "cols_to_convert = ['Days_Policy_Accident', 'Days_Policy_Claim', 'PastNumberOfClaims', 'AgeOfVehicle', 'AgeOfPolicyHolder', 'NumberOfSuppliments', 'NumberOfCars', 'VehiclePrice']\n",
    "df[cols_to_convert] = df[cols_to_convert].apply(lambda col: col.apply(convert_to_float))\n",
    "df['Age'] = df['Age'].astype(float)\n",
    "\n",
    "# Standardize numerical features\n",
    "scaler = StandardScaler()\n",
    "cols_to_scale = ['Age', 'Deductible', 'DriverRating', 'Days_Policy_Accident', 'Days_Policy_Claim', 'PastNumberOfClaims', 'AgeOfVehicle', 'AgeOfPolicyHolder', 'NumberOfSuppliments', 'NumberOfCars']\n",
    "df[cols_to_scale] = scaler.fit_transform(df[cols_to_scale])\n",
    "\n",
    "# Create new features\n",
    "df['TotalNumberOfClaims'] = df['PastNumberOfClaims'] + df['Days_Policy_Accident']\n",
    "df['PolicyAge'] = 2023 - df['Year']\n",
    "\n",
    "\n",
    "def build_models(X, y):\n",
    "    # Support Vector Machine (SVM) Classifier\n",
    "    svm_model = SVC(kernel='linear', random_state=42)\n",
    "    svm_scores = cross_val_score(svm_model, X, y, cv=5)\n",
    "    print(\"SVM Accuracy: %0.2f (+/- %0.2f)\" % (svm_scores.mean(), svm_scores.std() * 2))\n",
    "\n",
    "\n",
    "    # Decision Tree Classifier\n",
    "    dt_model = DecisionTreeClassifier(random_state=42)\n",
    "    dt_scores = cross_val_score(dt_model, X, y, cv=5)\n",
    "    print(\"Decision Tree Accuracy: %0.2f (+/- %0.2f)\" % (dt_scores.mean(), dt_scores.std() * 2))"
   ]
  },
  {
   "cell_type": "code",
   "execution_count": null,
   "id": "95d5bc06",
   "metadata": {},
   "outputs": [],
   "source": []
  }
 ],
 "metadata": {
  "kernelspec": {
   "display_name": "Python 3 (ipykernel)",
   "language": "python",
   "name": "python3"
  },
  "language_info": {
   "codemirror_mode": {
    "name": "ipython",
    "version": 3
   },
   "file_extension": ".py",
   "mimetype": "text/x-python",
   "name": "python",
   "nbconvert_exporter": "python",
   "pygments_lexer": "ipython3",
   "version": "3.10.4"
  }
 },
 "nbformat": 4,
 "nbformat_minor": 5
}
